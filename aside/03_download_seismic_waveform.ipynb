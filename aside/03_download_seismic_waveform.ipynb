{
 "cells": [
  {
   "cell_type": "code",
   "execution_count": null,
   "metadata": {},
   "outputs": [],
   "source": [
    "from tqdm.notebook import tqdm\n",
    "\n",
    "import catalog\n",
    "import waveform\n",
    "\n",
    "tqdm.pandas()\n",
    "catalog.display_parameters()"
   ]
  },
  {
   "cell_type": "code",
   "execution_count": null,
   "metadata": {},
   "outputs": [],
   "source": [
    "ESEC_avalanches = catalog.load(\"catalog/3_ESEC_avalanches_88.pickle\")\n",
    "\n",
    "ESEC_avalanches = ESEC_avalanches.reset_index(drop=True) ## To reset all avalanche indexes and end at 88 events\n",
    "ESEC_avalanches['numero'] = range(88) ## To have a better manipulation of the events\n",
    "\n",
    "catalog.open_plot(ESEC_avalanches, pos_number=0.11, xlim=100)"
   ]
  },
  {
   "cell_type": "markdown",
   "metadata": {},
   "source": [
    "## Fetch available stations for each event\n",
    "\n",
    "Get the inventory of waveforms per avalanche for a radius = 5° and put it in a new column"
   ]
  },
  {
   "cell_type": "code",
   "execution_count": null,
   "metadata": {},
   "outputs": [],
   "source": [
    "ESEC_avalanches[\"inventory\"] = ESEC_avalanches.progress_apply( \n",
    "    lambda row: waveform.download_inventory(row, maxradius=5, retries=10), axis=1\n",
    ")\n",
    "\n",
    "ESEC_avalanches.to_pickle(\"catalog/4_ESEC_avalanches_88.pickle\")"
   ]
  },
  {
   "cell_type": "markdown",
   "metadata": {},
   "source": [
    "## Download and save the waveforms\n",
    "\n",
    "This cell download the waveform of all events in the catalog (if any) and save them into the waveforms directory in the data folder. If no data is available, then the event is skipped."
   ]
  },
  {
   "cell_type": "code",
   "execution_count": null,
   "metadata": {},
   "outputs": [],
   "source": [
    "for event in tqdm(ESEC_avalanches.itertuples(), total=len(ESEC_avalanches)):\n",
    "    #if event.Index == 0 : ## Uncomment this line to download a specific event\n",
    "        stream = waveform.download_stream(event, time_margins=500, print_error=True)\n",
    "        if stream:\n",
    "            stream.write(f\"sismogrammes/{event.Index:03d}.pickle\", format=\"PICKLE\")"
   ]
  }
 ],
 "metadata": {
  "kernelspec": {
   "display_name": "base",
   "language": "python",
   "name": "python3"
  },
  "language_info": {
   "codemirror_mode": {
    "name": "ipython",
    "version": 3
   },
   "file_extension": ".py",
   "mimetype": "text/x-python",
   "name": "python",
   "nbconvert_exporter": "python",
   "pygments_lexer": "ipython3",
   "version": "3.10.6"
  }
 },
 "nbformat": 4,
 "nbformat_minor": 2
}
