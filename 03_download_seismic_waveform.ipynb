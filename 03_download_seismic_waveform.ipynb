{
 "cells": [
  {
   "cell_type": "markdown",
   "metadata": {},
   "source": [
    "# Download (and save) seismic waveforms \n",
    "\n",
    "This notebook fetch seismic waveforms for different seismic events from the new database. It first looks at the available seismic stations for different events within a given radius, and then tries to download the waveforms for each events and save them in a given directory. Only the nearest seismic signal to each event is kept for this study."
   ]
  },
  {
   "cell_type": "code",
   "execution_count": null,
   "metadata": {},
   "outputs": [],
   "source": [
    "from tqdm.notebook import tqdm\n",
    "\n",
    "import catalog\n",
    "import waveform\n",
    "\n",
    "tqdm.pandas()\n",
    "catalog.display_parameters()"
   ]
  },
  {
   "cell_type": "markdown",
   "metadata": {},
   "source": [
    "## Load the database"
   ]
  },
  {
   "cell_type": "code",
   "execution_count": null,
   "metadata": {},
   "outputs": [],
   "source": [
    "dataframe = catalog.load(\"data/new_database.pickle\")\n",
    "\n",
    "dataframe['numero'] = range(len(dataframe)) ## To have a better manipulation of the events\n",
    "\n",
    "catalog.open_plot(dataframe, pos_number=0.05, xlim=26000)"
   ]
  },
  {
   "cell_type": "markdown",
   "metadata": {},
   "source": [
    "## Fetch available stations for each event\n",
    "\n",
    "Get the inventory of waveforms per avalanche for a radius = 2° and put it in a new column"
   ]
  },
  {
   "cell_type": "code",
   "execution_count": null,
   "metadata": {},
   "outputs": [],
   "source": [
    "dataframe[\"inventory\"] = dataframe.progress_apply( \n",
    "    lambda row: waveform.download_inventory(row, maxradius=2, retries=1), axis=1\n",
    ")\n",
    "\n",
    "dataframe.to_pickle(\"data/new_dataframe_with_inventory.pickle\")"
   ]
  },
  {
   "cell_type": "markdown",
   "metadata": {},
   "source": [
    "## Download and save the waveforms\n",
    "\n",
    "This cell downloads the closest seismic signal of each event from the database."
   ]
  },
  {
   "cell_type": "code",
   "execution_count": null,
   "metadata": {},
   "outputs": [],
   "source": [
    "for event in tqdm(dataframe.itertuples(), total=len(dataframe)):\n",
    "    #if event.Index == 0 : ## Uncomment this line to download a specific event\n",
    "        stream = waveform.download_stream(event, time_margins=100, print_error=True, retries=1)\n",
    "        if stream:\n",
    "            stream.write(f\"sismogrammes/{event.Index:03d}.pickle\", format=\"PICKLE\")"
   ]
  },
  {
   "cell_type": "markdown",
   "metadata": {},
   "source": [
    "Sometimes errors occur and the data cannot be downloaded. Let's find the missing files and re-download the data :"
   ]
  },
  {
   "cell_type": "code",
   "execution_count": null,
   "metadata": {},
   "outputs": [],
   "source": [
    "#dataframe = catalog.load(\"data/new_dataframe_with_inventory.pickle\")\n",
    "\n",
    "missing_files = waveform.missing_file(dataframe)\n",
    "\n",
    "for event in tqdm(dataframe.itertuples(), total=len(dataframe)):\n",
    "    if event.Index in missing_files:\n",
    "        stream = waveform.download_stream(event, time_margins=100, print_error=True, retries=1)\n",
    "        if stream:\n",
    "            stream.write(f\"sismogrammes/{event.Index:03d}.pickle\", format=\"PICKLE\")"
   ]
  }
 ],
 "metadata": {
  "kernelspec": {
   "display_name": "Python 3",
   "language": "python",
   "name": "python3"
  },
  "language_info": {
   "codemirror_mode": {
    "name": "ipython",
    "version": 3
   },
   "file_extension": ".py",
   "mimetype": "text/x-python",
   "name": "python",
   "nbconvert_exporter": "python",
   "pygments_lexer": "ipython3",
   "version": "3.10.6"
  }
 },
 "nbformat": 4,
 "nbformat_minor": 2
}
