{
 "cells": [
  {
   "cell_type": "markdown",
   "metadata": {},
   "source": [
    "# Test the model"
   ]
  },
  {
   "cell_type": "markdown",
   "metadata": {},
   "source": []
  },
  {
   "cell_type": "code",
   "execution_count": 7,
   "metadata": {},
   "outputs": [],
   "source": [
    "import joblib\n",
    "import catalog\n",
    "# Charger le modèle\n",
    "model = joblib.load('random_forest_model.pkl')"
   ]
  },
  {
   "cell_type": "code",
   "execution_count": null,
   "metadata": {},
   "outputs": [],
   "source": [
    "fd = catalog.load(\"10_features_dataframe.pickle\")\n",
    "\n",
    "# Liste des colonnes à supprimer\n",
    "colonnes_a_supprimer = [\n",
    "    \"FC_ent\", \"Slope_BF_ent\", \"Intercept_BF_ent\", \"First Value_BF_ent\",\n",
    "    \"FC_value_ent\", \"Slope_HF_ent\", \"Intercept_HF_ent\", \"Last Value_HF_ent\",\n",
    "    \"volume\", \"length\", \"height\", \"numero3\", \"type\", \"numero1\", \"numero\", \"distance\",\n",
    "    \"event_index\", \"Intercept basse frequence\", \"PSD requence coin\", \"Intercept haute frequence\",\n",
    "    \"Last PSD haute frequence\"\n",
    "]\n",
    "\n",
    "# Supprime les colonnes\n",
    "X_test = fd.drop(columns=colonnes_a_supprimer)\n",
    "\n",
    "y_pred = model.predict(X_test)\n",
    "\n",
    "y_pred"
   ]
  }
 ],
 "metadata": {
  "kernelspec": {
   "display_name": "Python 3",
   "language": "python",
   "name": "python3"
  },
  "language_info": {
   "codemirror_mode": {
    "name": "ipython",
    "version": 3
   },
   "file_extension": ".py",
   "mimetype": "text/x-python",
   "name": "python",
   "nbconvert_exporter": "python",
   "pygments_lexer": "ipython3",
   "version": "3.10.6"
  }
 },
 "nbformat": 4,
 "nbformat_minor": 2
}
