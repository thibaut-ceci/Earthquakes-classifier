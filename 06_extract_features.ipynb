{
 "cells": [
  {
   "cell_type": "markdown",
   "metadata": {},
   "source": [
    "# Extract features\n",
    "\n",
    "Here, we want to extract features from the seismic signals"
   ]
  },
  {
   "cell_type": "code",
   "execution_count": null,
   "metadata": {},
   "outputs": [],
   "source": [
    "from tqdm.notebook import tqdm\n",
    "\n",
    "import numpy as np\n",
    "from obspy import ObsPyException, UTCDateTime\n",
    "\n",
    "import analysis\n",
    "import catalog\n",
    "import energy\n",
    "\n",
    "tqdm.pandas()\n",
    "catalog.display_parameters()"
   ]
  },
  {
   "cell_type": "markdown",
   "metadata": {},
   "source": [
    "## Load dataframe"
   ]
  },
  {
   "cell_type": "code",
   "execution_count": null,
   "metadata": {},
   "outputs": [],
   "source": [
    "dataframe = catalog.load(\"data/new_dataframe_with_inventory_cleaned.pickle\")\n",
    "\n",
    "catalog.open_plot(dataframe, pos_number=0.04, xlim=1600)"
   ]
  },
  {
   "cell_type": "markdown",
   "metadata": {},
   "source": [
    "## Extract features\n",
    "\n",
    "After detecting the seismic signal with the detection method, features will be extracted from the spectrogram and the energy envelope of the signals."
   ]
  },
  {
   "cell_type": "code",
   "execution_count": null,
   "metadata": {},
   "outputs": [],
   "source": [
    "## Loop over all events\n",
    "for event_index in tqdm(dataframe[\"numero\"], total=len(dataframe)):\n",
    "        \n",
    "    #if event_index == 0: ## Uncomment this line if you want to see a specific event\n",
    "\n",
    "        print(\"-------------------------\")\n",
    "        print(\"Event number\", event_index)\n",
    "        print(\"-------------------------\")\n",
    "        \n",
    "        try:\n",
    "            ## Filter the stream\n",
    "            _, trace = analysis.filter_stream(dataframe, event_index, 0, freq_HP=9, freq_LP=0.5, max_percentage=0.3)\n",
    "        \n",
    "            # The detection method\n",
    "            time_start_detection, data_start_detection, trimmed_time, trimmed_data, time_raw, data_raw, upper_threshold, lower_threshold = analysis.detection_on_one_trace(trace, dataframe, event_index)\n",
    "\n",
    "            ## Plot the spectrum with the models and extract features in a dataframe\n",
    "            analysis.plot_spectre(trace, dataframe, trimmed_data, 0, event_index, conserv_result=True)\n",
    "\n",
    "            ## Compute the energy and extract features in a dataframe\n",
    "            energy.compute(dataframe, trace, event_index)\n",
    "\n",
    "        except (IndexError, ObsPyException, ValueError):\n",
    "            print(\"Une erreur est survenue.\")"
   ]
  }
 ],
 "metadata": {
  "kernelspec": {
   "display_name": "Python 3",
   "language": "python",
   "name": "python3"
  },
  "language_info": {
   "codemirror_mode": {
    "name": "ipython",
    "version": 3
   },
   "file_extension": ".py",
   "mimetype": "text/x-python",
   "name": "python",
   "nbconvert_exporter": "python",
   "pygments_lexer": "ipython3",
   "version": "3.10.6"
  }
 },
 "nbformat": 4,
 "nbformat_minor": 2
}
